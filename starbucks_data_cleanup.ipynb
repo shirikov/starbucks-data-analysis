{
 "cells": [
  {
   "cell_type": "code",
   "execution_count": 1,
   "metadata": {},
   "outputs": [],
   "source": [
    "import pandas as pd\n",
    "import numpy as np\n",
    "\n",
    "# read in the json files\n",
    "portfolio = pd.read_json('data/portfolio.json', orient='records', lines=True)\n",
    "profile = pd.read_json('data/profile.json', orient='records', lines=True)\n",
    "transcript = pd.read_json('data/transcript.json', orient='records', lines=True)"
   ]
  },
  {
   "cell_type": "markdown",
   "metadata": {},
   "source": [
    "This notebooks loads and cleans up the original data, preparing a data set for the analysis of the probability of completing (redeeming) the promotional offers. First, we do some initial cleaning on the three data sets loaded from json files. We also drop the 2175 users for which there are no data on gender, income, and age (for those users, the age is set to 118 as a placeholder), as we won't be able to use these observations to examine how the probability of completing an offer differs on sociodemographic characteristics."
   ]
  },
  {
   "cell_type": "code",
   "execution_count": 2,
   "metadata": {},
   "outputs": [
    {
     "name": "stdout",
     "output_type": "stream",
     "text": [
      "Original number of users: 17000\n",
      "The number of users after dropping missing observations: 14825\n"
     ]
    }
   ],
   "source": [
    "portfolio = portfolio.rename(columns={'id': 'offer_id', \n",
    "                                      'duration': 'offer_duration',\n",
    "                                      'reward': 'offer_reward'})\n",
    "portfolio['offer_duration_hours'] = portfolio['offer_duration']*24\n",
    "\n",
    "# drop users with missing gender and income\n",
    "print('Original number of users: ' + str(profile.shape[0])) \n",
    "profile_cleaned = profile.dropna(subset=['gender', 'income']).rename(\n",
    "    columns={'id': 'user_id'})\n",
    "print('The number of users after dropping missing observations: ' + str(profile_cleaned.shape[0])) \n",
    "\n",
    "# clarify the gender variable\n",
    "gender_sub = {'F': 'Female', 'M': 'Male', 'O': 'Other'}\n",
    "profile_cleaned['gender'] = profile_cleaned['gender'].apply(\n",
    "    lambda x: ' '.join([gender_sub.get(i, i) for i in x.split()]))"
   ]
  },
  {
   "cell_type": "markdown",
   "metadata": {},
   "source": [
    "Then, in the data set of transactions, we expand the column *value*, which is a dictionary that includes either the amount of a given transaction or the offer id if the transaction is receiving, viewing, or completing the offer. (We won't need transaction amounts for the analysis of the probability of completing offers.)"
   ]
  },
  {
   "cell_type": "code",
   "execution_count": 3,
   "metadata": {},
   "outputs": [],
   "source": [
    "transcript = pd.concat([transcript, \n",
    "                        pd.DataFrame.from_records(transcript.value.tolist())],\n",
    "                        axis=1)\n",
    "transcript['offer_id'].fillna(transcript['offer id'], inplace=True)\n",
    "transcript = transcript.drop(columns=['offer id', 'value'])\n",
    "\n",
    "# drop records for users without demographic data\n",
    "transcript_u = transcript[\n",
    "    transcript.person.isin(profile_cleaned.user_id)\n",
    "    ].sort_values(by=['person', 'time']).rename(columns={'person': 'user_id'})"
   ]
  },
  {
   "cell_type": "markdown",
   "metadata": {},
   "source": [
    "Then, we create a new data frame that captures information on each offer each user received. Each row in this data frame includes information on a particular offer received by a particular user: when the offer was received, and whether and when it was viewed or completed. To create the data, we loop through all users in the transaction data set, and for each user, we reconstruct what happened with respect to a particular offer by looking at all the transactions with the corresponding offer id in the period when the offer was active.\n",
    "\n",
    "One caveat about this recovery process is that in some cases, users were sent the same offer two or more weeks in a row. Given that offer duration is sometimes longer than a week, in some of these cases, two offers with the same id were active simultaneously for a few days, and if offer viewing or completion happened in that specific period, there is no way to determine which of these two identical offers was viewed or completed because the same offer sent multiple times always has the same id. However, this issue is not severe, as in the overwhelming majority of cases, offers were viewed or completed soon after they were sent (or not viewed/completed at all), as the histograms below will show. A manual inspection of the original transactions data set with respect to specific users who had multiple identical offers in a row has also shown that this problem is very rare. "
   ]
  },
  {
   "cell_type": "code",
   "execution_count": 4,
   "metadata": {},
   "outputs": [],
   "source": [
    "# three functions to create a user-offer data frame\n",
    "def get_offer_data(user_data, offer, time_received, current_offer_duration):\n",
    "    \n",
    "    '''\n",
    "    Extract data on a given offer received by a particular user:\n",
    "    whether and when the offer was viewed and/or completed\n",
    "    \n",
    "    Args:\n",
    "        user_data: a subset of transactions for the specific user\n",
    "        offer: specific offer id\n",
    "        time_received: time at which the offer was sent\n",
    "        current_offer_duration: the duration of the specific offer in hours\n",
    "        \n",
    "    Returns: data frame with information on the reception, viewing,\n",
    "    and completion of a particular offer by a particular user\n",
    "    '''\n",
    "    \n",
    "    # limit transactions to the period in which the offer was active\n",
    "    offer_data = user_data[\n",
    "        (user_data.time >= time_received) &\n",
    "        (user_data.time <= time_received + current_offer_duration) &\n",
    "        (user_data.offer_id == offer)]\n",
    "    \n",
    "    # check whether the offer was completed/redeemed in that period\n",
    "    offer_completed = int('offer completed' in offer_data.event.tolist())\n",
    "    \n",
    "    # check whether the offer was viewed in that period\n",
    "    offer_viewed = int('offer viewed' in offer_data.event.tolist())\n",
    "    \n",
    "    # capture when the offer was completed/viewed\n",
    "    if offer_completed == 1:\n",
    "        time_completed = offer_data[\n",
    "            offer_data.event == 'offer completed'].time.iloc[0]\n",
    "    else:\n",
    "        time_completed = np.nan\n",
    "        \n",
    "    if offer_viewed == 1:\n",
    "        time_viewed = offer_data[\n",
    "            offer_data.event == 'offer viewed'].time.iloc[0]\n",
    "    else:\n",
    "        time_viewed = np.nan\n",
    "        \n",
    "    # check whether the offer was completed before viewing it\n",
    "    if offer_completed == 1 & offer_viewed == 1:\n",
    "        if time_completed < time_viewed:\n",
    "            offer_viewed_before = 0\n",
    "        else:\n",
    "            offer_viewed_before = 1\n",
    "    elif offer_completed == 1 & offer_viewed == 0:\n",
    "        offer_viewed_before = 0\n",
    "    # set to nan if offer not completed\n",
    "    else:\n",
    "        offer_viewed_before = np.nan\n",
    "    \n",
    "    # combine everything into a data frame            \n",
    "    user_offer_data = pd.DataFrame(\n",
    "        {'user_id': offer_data.user_id.unique().tolist(),\n",
    "         'offer_id': [offer],\n",
    "         'completed': [offer_completed],\n",
    "         'viewed': [offer_viewed],\n",
    "         'viewed_before': [offer_viewed_before],\n",
    "         'time_received': [time_received],\n",
    "         'time_viewed': [time_viewed],\n",
    "         'time_completed': [time_completed],\n",
    "         'offer_duration': [current_offer_duration]})\n",
    "    \n",
    "    return user_offer_data\n",
    "\n",
    "def check_user_offers(user_data, offer):\n",
    "    \n",
    "    '''\n",
    "    Check how many times a given offer was received by a particular user\n",
    "    and extract data on offer viewing/completion\n",
    "    \n",
    "    Args:\n",
    "        user_data: a subset of transactions for the specific user\n",
    "        offer: specific offer id\n",
    "        \n",
    "    Returns: data frame with information on the reception, viewing,\n",
    "    and completion of all offers with a particular id by a particular user\n",
    "    '''\n",
    "    \n",
    "    # extract the duration of the offer in hours from offer metadata\n",
    "    current_offer_duration = portfolio[\n",
    "        portfolio.offer_id == offer].offer_duration_hours.item()\n",
    "    \n",
    "    # check how many times the user received the same offer\n",
    "    received_times = user_data[(user_data.event == 'offer received') &\n",
    "                               (user_data.offer_id == offer)].time.tolist()\n",
    "    \n",
    "    # extract offer data\n",
    "    user_offer_data = [get_offer_data(user_data, offer,\n",
    "                                      time_point,\n",
    "                                      current_offer_duration) for\n",
    "                       time_point in received_times]\n",
    "    user_offer_data = pd.concat(user_offer_data)\n",
    "    \n",
    "    # how many times the same offer was received \n",
    "    user_offer_data['offer_count'] = len(received_times)\n",
    "    user_offer_data['time_points'] = '.'.join(str(x) for x in received_times)\n",
    "        \n",
    "    return user_offer_data\n",
    "        \n",
    "\n",
    "def clean_offers_by_user(user):\n",
    "    \n",
    "    '''\n",
    "    Get data on all offers received by a particular user\n",
    "    \n",
    "    Args:\n",
    "        user: user id\n",
    "        \n",
    "    Returns: data frame with information on the reception, viewing,\n",
    "    and completion of all offers received by a particular user\n",
    "    '''\n",
    "    \n",
    "    # a data set of all records on offers received, viewed, or completed\n",
    "    # by a particular user\n",
    "    user_transactions = transcript_u[transcript_u.user_id == user]\n",
    "    \n",
    "    # the ids of all offers received by the user\n",
    "    user_offers = user_transactions.offer_id.unique().tolist()\n",
    "    \n",
    "    # extract data on all offers received by this user\n",
    "    user_offer_data = [check_user_offers(user_transactions, offer) for \n",
    "                       offer in user_offers]\n",
    "    user_offer_data = pd.concat(user_offer_data)\n",
    "    \n",
    "    return user_offer_data"
   ]
  },
  {
   "cell_type": "markdown",
   "metadata": {},
   "source": []
  }
 ],
 "metadata": {
  "interpreter": {
   "hash": "63988c7776bd4b2216d881fd2ad90ced5e2987f9f8c410eebe313e5d7f3b1f68"
  },
  "kernelspec": {
   "display_name": "Python 3.8.5 64-bit ('base': conda)",
   "language": "python",
   "name": "python3"
  },
  "language_info": {
   "codemirror_mode": {
    "name": "ipython",
    "version": 3
   },
   "file_extension": ".py",
   "mimetype": "text/x-python",
   "name": "python",
   "nbconvert_exporter": "python",
   "pygments_lexer": "ipython3",
   "version": "3.8.13"
  },
  "orig_nbformat": 4
 },
 "nbformat": 4,
 "nbformat_minor": 2
}
