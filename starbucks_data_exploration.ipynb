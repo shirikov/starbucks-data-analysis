{
 "cells": [
  {
   "cell_type": "code",
   "execution_count": 39,
   "metadata": {},
   "outputs": [],
   "source": [
    "import pandas as pd\n",
    "import numpy as np\n",
    "from sklearn.linear_model import LassoCV\n",
    "from sklearn.model_selection import train_test_split\n",
    "from sklearn.metrics import r2_score\n",
    "from sklearn.pipeline import make_pipeline\n",
    "from sklearn.preprocessing import StandardScaler\n",
    "import matplotlib.pyplot as plt\n",
    "\n",
    "# Load data files\n",
    "portfolio = pd.read_json('data/portfolio.json', orient='records', lines=True)\n",
    "profile = pd.read_json('data/profile.json', orient='records', lines=True)\n",
    "transcript = pd.read_json('data/transcript.json', orient='records', lines=True)"
   ]
  },
  {
   "cell_type": "markdown",
   "metadata": {},
   "source": [
    "# Introduction\n",
    "\n",
    "This notebook explores a (simulated) data set provided by Starbucks as part of a Udacity Data Science course. The original data consist of three data sets: (1) metadata on several promotional campaigns (offers); (2) basic sociodemographic data on users who were part of these campaigns; (3) a data set on user transactions and received or completed offers. Below, we will look at the basic characteristics of the data that are relevant to the analysis of the effectiveness of promotional campaigns summarized in a separate notebook.\n",
    "\n",
    "# Exploring Data on Users\n",
    "\n",
    "First, let's look at the dimensions of the data and missing observations. We can see that for some users, gender and income data are missing."
   ]
  },
  {
   "cell_type": "code",
   "execution_count": 40,
   "metadata": {},
   "outputs": [
    {
     "name": "stdout",
     "output_type": "stream",
     "text": [
      "Total number of promotional campaigns: 10\n",
      "Total number of users: 17000\n",
      "Missing data on users:\n",
      "gender              2175\n",
      "age                    0\n",
      "id                     0\n",
      "became_member_on       0\n",
      "income              2175\n",
      "dtype: int64\n",
      "Missing data on transactions/received offers:\n",
      "person    0\n",
      "event     0\n",
      "value     0\n",
      "time      0\n",
      "dtype: int64\n"
     ]
    }
   ],
   "source": [
    "print(\"Total number of promotional campaigns: \" + str(portfolio.shape[0]))\n",
    "print(\"Total number of users: \" + str(profile.shape[0]))\n",
    "\n",
    "print(\"Missing data on users:\")\n",
    "print(profile.isna().sum())\n",
    "\n",
    "print(\"Missing data on transactions/received offers:\")\n",
    "print(transcript.isna().sum())"
   ]
  },
  {
   "cell_type": "markdown",
   "metadata": {},
   "source": [
    "Let's examine the user data in a bit more detail."
   ]
  },
  {
   "cell_type": "code",
   "execution_count": 41,
   "metadata": {},
   "outputs": [
    {
     "name": "stdout",
     "output_type": "stream",
     "text": [
      "Gender composition of the sample:\n"
     ]
    },
    {
     "data": {
      "text/plain": [
       "M    8484\n",
       "F    6129\n",
       "O     212\n",
       "Name: gender, dtype: int64"
      ]
     },
     "execution_count": 41,
     "metadata": {},
     "output_type": "execute_result"
    }
   ],
   "source": [
    "print(\"Gender composition of the sample:\")\n",
    "profile.gender.value_counts()"
   ]
  },
  {
   "cell_type": "code",
   "execution_count": 42,
   "metadata": {},
   "outputs": [
    {
     "data": {
      "text/plain": [
       "array([[<AxesSubplot:title={'center':'age'}>,\n",
       "        <AxesSubplot:title={'center':'income'}>]], dtype=object)"
      ]
     },
     "execution_count": 42,
     "metadata": {},
     "output_type": "execute_result"
    },
    {
     "data": {
      "image/png": "[encoded data removed]",
      "text/plain": [
       "<Figure size 1008x360 with 2 Axes>"
      ]
     },
     "metadata": {
      "needs_background": "light"
     },
     "output_type": "display_data"
    }
   ],
   "source": [
    "# histograms by age and income\n",
    "profile[['age', 'income']].hist(grid=False, bins=30, figsize=(14, 5))"
   ]
  },
  {
   "cell_type": "code",
   "execution_count": 43,
   "metadata": {},
   "outputs": [
    {
     "data": {
      "text/plain": [
       "<AxesSubplot:title={'center':'Membership start, by month-year'}>"
      ]
     },
     "execution_count": 43,
     "metadata": {},
     "output_type": "execute_result"
    },
    {
     "data": {
      "image/png": "[encoded data removed]",
      "text/plain": [
       "<Figure size 1008x360 with 1 Axes>"
      ]
     },
     "metadata": {
      "needs_background": "light"
     },
     "output_type": "display_data"
    }
   ],
   "source": [
    "# the duration of membership, by year-month\n",
    "profile['membership_month'] = pd.to_datetime(\n",
    "    profile['became_member_on'], format=\"%Y%m%d\").dt.to_period('M')\n",
    "profile.groupby('membership_month').size().plot(kind='bar', grid=False, figsize=(14, 5), title='Membership start, by month-year', xlabel='')"
   ]
  },
  {
   "cell_type": "markdown",
   "metadata": {},
   "source": [
    "There is a weird spike of customers whose age is around 120. Further examination shows that for all 2175 users with missing gender (and income), age is set to 118. This seems like a placeholder for a missing age. In the subsequent analysis, it would probably be wise to consider age also missing when its value is 118. "
   ]
  },
  {
   "cell_type": "code",
   "execution_count": 44,
   "metadata": {},
   "outputs": [
    {
     "data": {
      "text/plain": [
       "118    2175\n",
       "Name: age, dtype: int64"
      ]
     },
     "execution_count": 44,
     "metadata": {},
     "output_type": "execute_result"
    }
   ],
   "source": [
    "profile[profile.gender.isna()].age.value_counts()"
   ]
  },
  {
   "cell_type": "markdown",
   "metadata": {},
   "source": [
    "# Exploring Data on Offers \n",
    "\n",
    "There are 4 BOGO offers, 2 informational offers, and 4 discounts. Rewards in BOGO and discount offers range from 2 to 10 dollars. Difficulty (minimum spending required to use an offer) ranges from 5 to 20 dollars.  "
   ]
  },
  {
   "cell_type": "code",
   "execution_count": 45,
   "metadata": {},
   "outputs": [
    {
     "data": {
      "text/html": [
       "<div>\n",
       "<style scoped>\n",
       "    .dataframe tbody tr th:only-of-type {\n",
       "        vertical-align: middle;\n",
       "    }\n",
       "\n",
       "    .dataframe tbody tr th {\n",
       "        vertical-align: top;\n",
       "    }\n",
       "\n",
       "    .dataframe thead th {\n",
       "        text-align: right;\n",
       "    }\n",
       "</style>\n",
       "<table border=\"1\" class=\"dataframe\">\n",
       "  <thead>\n",
       "    <tr style=\"text-align: right;\">\n",
       "      <th></th>\n",
       "      <th>reward</th>\n",
       "      <th>channels</th>\n",
       "      <th>difficulty</th>\n",
       "      <th>duration</th>\n",
       "      <th>offer_type</th>\n",
       "    </tr>\n",
       "  </thead>\n",
       "  <tbody>\n",
       "    <tr>\n",
       "      <th>0</th>\n",
       "      <td>10</td>\n",
       "      <td>[email, mobile, social]</td>\n",
       "      <td>10</td>\n",
       "      <td>7</td>\n",
       "      <td>bogo</td>\n",
       "    </tr>\n",
       "    <tr>\n",
       "      <th>1</th>\n",
       "      <td>10</td>\n",
       "      <td>[web, email, mobile, social]</td>\n",
       "      <td>10</td>\n",
       "      <td>5</td>\n",
       "      <td>bogo</td>\n",
       "    </tr>\n",
       "    <tr>\n",
       "      <th>2</th>\n",
       "      <td>0</td>\n",
       "      <td>[web, email, mobile]</td>\n",
       "      <td>0</td>\n",
       "      <td>4</td>\n",
       "      <td>informational</td>\n",
       "    </tr>\n",
       "    <tr>\n",
       "      <th>3</th>\n",
       "      <td>5</td>\n",
       "      <td>[web, email, mobile]</td>\n",
       "      <td>5</td>\n",
       "      <td>7</td>\n",
       "      <td>bogo</td>\n",
       "    </tr>\n",
       "    <tr>\n",
       "      <th>4</th>\n",
       "      <td>5</td>\n",
       "      <td>[web, email]</td>\n",
       "      <td>20</td>\n",
       "      <td>10</td>\n",
       "      <td>discount</td>\n",
       "    </tr>\n",
       "    <tr>\n",
       "      <th>5</th>\n",
       "      <td>3</td>\n",
       "      <td>[web, email, mobile, social]</td>\n",
       "      <td>7</td>\n",
       "      <td>7</td>\n",
       "      <td>discount</td>\n",
       "    </tr>\n",
       "    <tr>\n",
       "      <th>6</th>\n",
       "      <td>2</td>\n",
       "      <td>[web, email, mobile, social]</td>\n",
       "      <td>10</td>\n",
       "      <td>10</td>\n",
       "      <td>discount</td>\n",
       "    </tr>\n",
       "    <tr>\n",
       "      <th>7</th>\n",
       "      <td>0</td>\n",
       "      <td>[email, mobile, social]</td>\n",
       "      <td>0</td>\n",
       "      <td>3</td>\n",
       "      <td>informational</td>\n",
       "    </tr>\n",
       "    <tr>\n",
       "      <th>8</th>\n",
       "      <td>5</td>\n",
       "      <td>[web, email, mobile, social]</td>\n",
       "      <td>5</td>\n",
       "      <td>5</td>\n",
       "      <td>bogo</td>\n",
       "    </tr>\n",
       "    <tr>\n",
       "      <th>9</th>\n",
       "      <td>2</td>\n",
       "      <td>[web, email, mobile]</td>\n",
       "      <td>10</td>\n",
       "      <td>7</td>\n",
       "      <td>discount</td>\n",
       "    </tr>\n",
       "  </tbody>\n",
       "</table>\n",
       "</div>"
      ],
      "text/plain": [
       "   reward                      channels  difficulty  duration     offer_type\n",
       "0      10       [email, mobile, social]          10         7           bogo\n",
       "1      10  [web, email, mobile, social]          10         5           bogo\n",
       "2       0          [web, email, mobile]           0         4  informational\n",
       "3       5          [web, email, mobile]           5         7           bogo\n",
       "4       5                  [web, email]          20        10       discount\n",
       "5       3  [web, email, mobile, social]           7         7       discount\n",
       "6       2  [web, email, mobile, social]          10        10       discount\n",
       "7       0       [email, mobile, social]           0         3  informational\n",
       "8       5  [web, email, mobile, social]           5         5           bogo\n",
       "9       2          [web, email, mobile]          10         7       discount"
      ]
     },
     "execution_count": 45,
     "metadata": {},
     "output_type": "execute_result"
    }
   ],
   "source": [
    "portfolio.drop(columns='id')"
   ]
  },
  {
   "cell_type": "markdown",
   "metadata": {},
   "source": [
    "Here's a summary on the number of users who have received, viewed, and completed particular offers."
   ]
  },
  {
   "cell_type": "code",
   "execution_count": 46,
   "metadata": {},
   "outputs": [
    {
     "data": {
      "text/html": [
       "<div>\n",
       "<style scoped>\n",
       "    .dataframe tbody tr th:only-of-type {\n",
       "        vertical-align: middle;\n",
       "    }\n",
       "\n",
       "    .dataframe tbody tr th {\n",
       "        vertical-align: top;\n",
       "    }\n",
       "\n",
       "    .dataframe thead th {\n",
       "        text-align: right;\n",
       "    }\n",
       "</style>\n",
       "<table border=\"1\" class=\"dataframe\">\n",
       "  <thead>\n",
       "    <tr style=\"text-align: right;\">\n",
       "      <th></th>\n",
       "      <th>offer_id</th>\n",
       "      <th>offer_type</th>\n",
       "      <th>reward</th>\n",
       "      <th>difficulty</th>\n",
       "      <th>duration</th>\n",
       "      <th>received</th>\n",
       "      <th>viewed</th>\n",
       "      <th>completed</th>\n",
       "    </tr>\n",
       "  </thead>\n",
       "  <tbody>\n",
       "    <tr>\n",
       "      <th>0</th>\n",
       "      <td>9b98b8c7a33c4b65b9aebfe6a799e6d9</td>\n",
       "      <td>bogo</td>\n",
       "      <td>5</td>\n",
       "      <td>5</td>\n",
       "      <td>7</td>\n",
       "      <td>7677</td>\n",
       "      <td>4171</td>\n",
       "      <td>4354</td>\n",
       "    </tr>\n",
       "    <tr>\n",
       "      <th>1</th>\n",
       "      <td>f19421c1d4aa40978ebb69ca19b0e20d</td>\n",
       "      <td>bogo</td>\n",
       "      <td>5</td>\n",
       "      <td>5</td>\n",
       "      <td>5</td>\n",
       "      <td>7571</td>\n",
       "      <td>7264</td>\n",
       "      <td>4296</td>\n",
       "    </tr>\n",
       "    <tr>\n",
       "      <th>2</th>\n",
       "      <td>4d5c57ea9a6940dd891ad53e9dbe8da0</td>\n",
       "      <td>bogo</td>\n",
       "      <td>10</td>\n",
       "      <td>10</td>\n",
       "      <td>5</td>\n",
       "      <td>7593</td>\n",
       "      <td>7298</td>\n",
       "      <td>3331</td>\n",
       "    </tr>\n",
       "    <tr>\n",
       "      <th>3</th>\n",
       "      <td>ae264e3637204a6fb9bb56bc8210ddfd</td>\n",
       "      <td>bogo</td>\n",
       "      <td>10</td>\n",
       "      <td>10</td>\n",
       "      <td>7</td>\n",
       "      <td>7658</td>\n",
       "      <td>6716</td>\n",
       "      <td>3688</td>\n",
       "    </tr>\n",
       "    <tr>\n",
       "      <th>4</th>\n",
       "      <td>2906b810c7d4411798c6938adc9daaa5</td>\n",
       "      <td>discount</td>\n",
       "      <td>2</td>\n",
       "      <td>10</td>\n",
       "      <td>7</td>\n",
       "      <td>7632</td>\n",
       "      <td>4118</td>\n",
       "      <td>4017</td>\n",
       "    </tr>\n",
       "    <tr>\n",
       "      <th>5</th>\n",
       "      <td>fafdcd668e3743c1bb461111dcafc2a4</td>\n",
       "      <td>discount</td>\n",
       "      <td>2</td>\n",
       "      <td>10</td>\n",
       "      <td>10</td>\n",
       "      <td>7597</td>\n",
       "      <td>7327</td>\n",
       "      <td>5317</td>\n",
       "    </tr>\n",
       "    <tr>\n",
       "      <th>6</th>\n",
       "      <td>2298d6c36e964ae4a3e7e9706d1fb8c2</td>\n",
       "      <td>discount</td>\n",
       "      <td>3</td>\n",
       "      <td>7</td>\n",
       "      <td>7</td>\n",
       "      <td>7646</td>\n",
       "      <td>7337</td>\n",
       "      <td>5156</td>\n",
       "    </tr>\n",
       "    <tr>\n",
       "      <th>7</th>\n",
       "      <td>0b1e1539f2cc45b7b9fa7c272da2e1d7</td>\n",
       "      <td>discount</td>\n",
       "      <td>5</td>\n",
       "      <td>20</td>\n",
       "      <td>10</td>\n",
       "      <td>7668</td>\n",
       "      <td>2663</td>\n",
       "      <td>3420</td>\n",
       "    </tr>\n",
       "    <tr>\n",
       "      <th>8</th>\n",
       "      <td>3f207df678b143eea3cee63160fa8bed</td>\n",
       "      <td>informational</td>\n",
       "      <td>0</td>\n",
       "      <td>0</td>\n",
       "      <td>4</td>\n",
       "      <td>7617</td>\n",
       "      <td>4144</td>\n",
       "      <td>&lt;NA&gt;</td>\n",
       "    </tr>\n",
       "    <tr>\n",
       "      <th>9</th>\n",
       "      <td>5a8bc65990b245e5a138643cd4eb9837</td>\n",
       "      <td>informational</td>\n",
       "      <td>0</td>\n",
       "      <td>0</td>\n",
       "      <td>3</td>\n",
       "      <td>7618</td>\n",
       "      <td>6687</td>\n",
       "      <td>&lt;NA&gt;</td>\n",
       "    </tr>\n",
       "  </tbody>\n",
       "</table>\n",
       "</div>"
      ],
      "text/plain": [
       "                           offer_id     offer_type  reward  difficulty  \\\n",
       "0  9b98b8c7a33c4b65b9aebfe6a799e6d9           bogo       5           5   \n",
       "1  f19421c1d4aa40978ebb69ca19b0e20d           bogo       5           5   \n",
       "2  4d5c57ea9a6940dd891ad53e9dbe8da0           bogo      10          10   \n",
       "3  ae264e3637204a6fb9bb56bc8210ddfd           bogo      10          10   \n",
       "4  2906b810c7d4411798c6938adc9daaa5       discount       2          10   \n",
       "5  fafdcd668e3743c1bb461111dcafc2a4       discount       2          10   \n",
       "6  2298d6c36e964ae4a3e7e9706d1fb8c2       discount       3           7   \n",
       "7  0b1e1539f2cc45b7b9fa7c272da2e1d7       discount       5          20   \n",
       "8  3f207df678b143eea3cee63160fa8bed  informational       0           0   \n",
       "9  5a8bc65990b245e5a138643cd4eb9837  informational       0           0   \n",
       "\n",
       "   duration  received  viewed  completed  \n",
       "0         7      7677    4171       4354  \n",
       "1         5      7571    7264       4296  \n",
       "2         5      7593    7298       3331  \n",
       "3         7      7658    6716       3688  \n",
       "4         7      7632    4118       4017  \n",
       "5        10      7597    7327       5317  \n",
       "6         7      7646    7337       5156  \n",
       "7        10      7668    2663       3420  \n",
       "8         4      7617    4144       <NA>  \n",
       "9         3      7618    6687       <NA>  "
      ]
     },
     "execution_count": 46,
     "metadata": {},
     "output_type": "execute_result"
    }
   ],
   "source": [
    "# expand the dict column in the transactions data\n",
    "transcript = pd.concat([transcript, \n",
    "                        pd.DataFrame.from_records(transcript.value.tolist())],\n",
    "                        axis=1)\n",
    "transcript['offer_id'].fillna(transcript['offer id'], inplace=True)\n",
    "transcript = transcript.drop(columns='offer id')\n",
    "\n",
    "# merge with metadata on offers\n",
    "transcript = pd.merge(transcript, \n",
    "                      portfolio.rename(\n",
    "                          columns={'id': 'offer_id',\n",
    "                                   'reward': 'offer_reward'}\n",
    "                          ), how='left') \n",
    "\n",
    "# summary statistics on offers\n",
    "offer_stats = transcript[\n",
    "    transcript.event != 'transaction'\n",
    "    ].groupby(\n",
    "        by='event'\n",
    "        ).offer_id.value_counts().reset_index(level=0).rename(\n",
    "            columns={'offer_id': 'count'}\n",
    "        ).reset_index(level=0).pivot(\n",
    "            index='offer_id', columns='event', values='count').rename(\n",
    "                columns=lambda s: s.replace('offer ', '')).reset_index(level=0)\n",
    "offer_stats = pd.merge(offer_stats, portfolio.rename(\n",
    "                          columns={'id': 'offer_id'}\n",
    "                          ).drop(columns='channels'), how='left')\n",
    "offer_stats = offer_stats[['offer_id', 'offer_type', 'reward', 'difficulty', 'duration', 'received', 'viewed', 'completed']]\n",
    "offer_stats[['received', 'viewed', 'completed']] = offer_stats[['received', 'viewed', 'completed']].astype('Int64')   \n",
    "offer_stats.sort_values(by=['offer_type', 'reward']).reset_index(drop=True)"
   ]
  },
  {
   "cell_type": "markdown",
   "metadata": {},
   "source": [
    "It's worth noting that each offer was received by approximately the same number of users, but the number of users who viewed and/or completed these offers varied substantially depending on the particular campaign. Naturally, more difficult offers (the ones that need more spending to redeem) were completed by smaller numbers of people. \n",
    "\n",
    "Notably, some offers were much more likely to be viewed by customers than other offers. See, e.g., the first two BOGO offers in the table. The second, despite being similar to the first one in its basic parameters, was viewed by a much larger number of users. The completion rate for these two offers, however, was almost the same. This may suggest that many customers become eligible for offers \"automatically\" by placing orders they would have placed in any case.  \n",
    "\n",
    "One challenge with this data set is that almost every user in it has received some kind of a promotional offer, and many users have received multiple offers. As a result, in any comparison between users who have or have not received any particular offer, we have to keep in mind that either of these may have also received other offers. "
   ]
  },
  {
   "cell_type": "code",
   "execution_count": 47,
   "metadata": {},
   "outputs": [
    {
     "name": "stdout",
     "output_type": "stream",
     "text": [
      "Number of users who have not received any offers: 20\n"
     ]
    }
   ],
   "source": [
    "# number of offers per user\n",
    "num_offers = transcript[transcript.event=='offer received'].groupby('person').size().reset_index(level=0)\n",
    "print(\"Number of users who have not received any offers: \" + str(transcript[~transcript.person.isin(num_offers.person.tolist())].person.shape[0]))"
   ]
  },
  {
   "cell_type": "code",
   "execution_count": 48,
   "metadata": {},
   "outputs": [
    {
     "data": {
      "text/html": [
       "<div>\n",
       "<style scoped>\n",
       "    .dataframe tbody tr th:only-of-type {\n",
       "        vertical-align: middle;\n",
       "    }\n",
       "\n",
       "    .dataframe tbody tr th {\n",
       "        vertical-align: top;\n",
       "    }\n",
       "\n",
       "    .dataframe thead th {\n",
       "        text-align: right;\n",
       "    }\n",
       "</style>\n",
       "<table border=\"1\" class=\"dataframe\">\n",
       "  <thead>\n",
       "    <tr style=\"text-align: right;\">\n",
       "      <th></th>\n",
       "      <th>offers_per_user</th>\n",
       "      <th>users</th>\n",
       "    </tr>\n",
       "  </thead>\n",
       "  <tbody>\n",
       "    <tr>\n",
       "      <th>0</th>\n",
       "      <td>1</td>\n",
       "      <td>73</td>\n",
       "    </tr>\n",
       "    <tr>\n",
       "      <th>1</th>\n",
       "      <td>2</td>\n",
       "      <td>610</td>\n",
       "    </tr>\n",
       "    <tr>\n",
       "      <th>2</th>\n",
       "      <td>3</td>\n",
       "      <td>2325</td>\n",
       "    </tr>\n",
       "    <tr>\n",
       "      <th>3</th>\n",
       "      <td>4</td>\n",
       "      <td>4988</td>\n",
       "    </tr>\n",
       "    <tr>\n",
       "      <th>4</th>\n",
       "      <td>5</td>\n",
       "      <td>5931</td>\n",
       "    </tr>\n",
       "    <tr>\n",
       "      <th>5</th>\n",
       "      <td>6</td>\n",
       "      <td>3067</td>\n",
       "    </tr>\n",
       "  </tbody>\n",
       "</table>\n",
       "</div>"
      ],
      "text/plain": [
       "   offers_per_user  users\n",
       "0                1     73\n",
       "1                2    610\n",
       "2                3   2325\n",
       "3                4   4988\n",
       "4                5   5931\n",
       "5                6   3067"
      ]
     },
     "execution_count": 48,
     "metadata": {},
     "output_type": "execute_result"
    }
   ],
   "source": [
    "# number of users by the number of offers they received\n",
    "num_offers.columns = ['person', 'offers']\n",
    "offers_per_user = num_offers.groupby('offers').size().reset_index(level=0)\n",
    "offers_per_user.columns = ['offers_per_user', 'users']\n",
    "offers_per_user"
   ]
  },
  {
   "cell_type": "markdown",
   "metadata": {},
   "source": [
    "It is also worth noting that offers were issued/received at multiple points in time. The next table shows how many users received each particular offer at each point in time in hours. It is clear from the table that each offer was sent 6 times to an approximately the same number of users each time. The table also suggests that at each particular point in time, all 10 offers were sent simultaneously. "
   ]
  },
  {
   "cell_type": "code",
   "execution_count": 49,
   "metadata": {},
   "outputs": [
    {
     "data": {
      "text/html": [
       "<div>\n",
       "<style scoped>\n",
       "    .dataframe tbody tr th:only-of-type {\n",
       "        vertical-align: middle;\n",
       "    }\n",
       "\n",
       "    .dataframe tbody tr th {\n",
       "        vertical-align: top;\n",
       "    }\n",
       "\n",
       "    .dataframe thead th {\n",
       "        text-align: right;\n",
       "    }\n",
       "</style>\n",
       "<table border=\"1\" class=\"dataframe\">\n",
       "  <thead>\n",
       "    <tr style=\"text-align: right;\">\n",
       "      <th>time</th>\n",
       "      <th>0</th>\n",
       "      <th>168</th>\n",
       "      <th>336</th>\n",
       "      <th>408</th>\n",
       "      <th>504</th>\n",
       "      <th>576</th>\n",
       "    </tr>\n",
       "    <tr>\n",
       "      <th>offer_id</th>\n",
       "      <th></th>\n",
       "      <th></th>\n",
       "      <th></th>\n",
       "      <th></th>\n",
       "      <th></th>\n",
       "      <th></th>\n",
       "    </tr>\n",
       "  </thead>\n",
       "  <tbody>\n",
       "    <tr>\n",
       "      <th>0b1e1539f2cc45b7b9fa7c272da2e1d7</th>\n",
       "      <td>1297</td>\n",
       "      <td>1245</td>\n",
       "      <td>1322</td>\n",
       "      <td>1269</td>\n",
       "      <td>1258</td>\n",
       "      <td>1277</td>\n",
       "    </tr>\n",
       "    <tr>\n",
       "      <th>2298d6c36e964ae4a3e7e9706d1fb8c2</th>\n",
       "      <td>1221</td>\n",
       "      <td>1250</td>\n",
       "      <td>1301</td>\n",
       "      <td>1274</td>\n",
       "      <td>1286</td>\n",
       "      <td>1314</td>\n",
       "    </tr>\n",
       "    <tr>\n",
       "      <th>2906b810c7d4411798c6938adc9daaa5</th>\n",
       "      <td>1257</td>\n",
       "      <td>1270</td>\n",
       "      <td>1263</td>\n",
       "      <td>1335</td>\n",
       "      <td>1286</td>\n",
       "      <td>1221</td>\n",
       "    </tr>\n",
       "    <tr>\n",
       "      <th>3f207df678b143eea3cee63160fa8bed</th>\n",
       "      <td>1273</td>\n",
       "      <td>1266</td>\n",
       "      <td>1279</td>\n",
       "      <td>1275</td>\n",
       "      <td>1229</td>\n",
       "      <td>1295</td>\n",
       "    </tr>\n",
       "    <tr>\n",
       "      <th>4d5c57ea9a6940dd891ad53e9dbe8da0</th>\n",
       "      <td>1218</td>\n",
       "      <td>1240</td>\n",
       "      <td>1280</td>\n",
       "      <td>1308</td>\n",
       "      <td>1310</td>\n",
       "      <td>1237</td>\n",
       "    </tr>\n",
       "    <tr>\n",
       "      <th>5a8bc65990b245e5a138643cd4eb9837</th>\n",
       "      <td>1266</td>\n",
       "      <td>1270</td>\n",
       "      <td>1256</td>\n",
       "      <td>1293</td>\n",
       "      <td>1238</td>\n",
       "      <td>1295</td>\n",
       "    </tr>\n",
       "    <tr>\n",
       "      <th>9b98b8c7a33c4b65b9aebfe6a799e6d9</th>\n",
       "      <td>1245</td>\n",
       "      <td>1296</td>\n",
       "      <td>1275</td>\n",
       "      <td>1274</td>\n",
       "      <td>1261</td>\n",
       "      <td>1326</td>\n",
       "    </tr>\n",
       "    <tr>\n",
       "      <th>ae264e3637204a6fb9bb56bc8210ddfd</th>\n",
       "      <td>1292</td>\n",
       "      <td>1319</td>\n",
       "      <td>1245</td>\n",
       "      <td>1278</td>\n",
       "      <td>1248</td>\n",
       "      <td>1276</td>\n",
       "    </tr>\n",
       "    <tr>\n",
       "      <th>f19421c1d4aa40978ebb69ca19b0e20d</th>\n",
       "      <td>1263</td>\n",
       "      <td>1263</td>\n",
       "      <td>1247</td>\n",
       "      <td>1250</td>\n",
       "      <td>1305</td>\n",
       "      <td>1243</td>\n",
       "    </tr>\n",
       "    <tr>\n",
       "      <th>fafdcd668e3743c1bb461111dcafc2a4</th>\n",
       "      <td>1318</td>\n",
       "      <td>1250</td>\n",
       "      <td>1243</td>\n",
       "      <td>1222</td>\n",
       "      <td>1283</td>\n",
       "      <td>1281</td>\n",
       "    </tr>\n",
       "  </tbody>\n",
       "</table>\n",
       "</div>"
      ],
      "text/plain": [
       "time                               0     168   336   408   504   576\n",
       "offer_id                                                            \n",
       "0b1e1539f2cc45b7b9fa7c272da2e1d7  1297  1245  1322  1269  1258  1277\n",
       "2298d6c36e964ae4a3e7e9706d1fb8c2  1221  1250  1301  1274  1286  1314\n",
       "2906b810c7d4411798c6938adc9daaa5  1257  1270  1263  1335  1286  1221\n",
       "3f207df678b143eea3cee63160fa8bed  1273  1266  1279  1275  1229  1295\n",
       "4d5c57ea9a6940dd891ad53e9dbe8da0  1218  1240  1280  1308  1310  1237\n",
       "5a8bc65990b245e5a138643cd4eb9837  1266  1270  1256  1293  1238  1295\n",
       "9b98b8c7a33c4b65b9aebfe6a799e6d9  1245  1296  1275  1274  1261  1326\n",
       "ae264e3637204a6fb9bb56bc8210ddfd  1292  1319  1245  1278  1248  1276\n",
       "f19421c1d4aa40978ebb69ca19b0e20d  1263  1263  1247  1250  1305  1243\n",
       "fafdcd668e3743c1bb461111dcafc2a4  1318  1250  1243  1222  1283  1281"
      ]
     },
     "execution_count": 49,
     "metadata": {},
     "output_type": "execute_result"
    }
   ],
   "source": [
    "offer_timing = transcript[\n",
    "    transcript.event=='offer received'\n",
    "    ].groupby(\n",
    "        'offer_id'\n",
    "        ).time.value_counts().reset_index(level=0).rename(\n",
    "            columns={'time': 'users'}).reset_index(level=0).sort_values(\n",
    "                ['offer_id', 'time']).pivot(\n",
    "                    index='offer_id', columns='time', values='users')\n",
    "offer_timing"
   ]
  },
  {
   "cell_type": "markdown",
   "metadata": {},
   "source": [
    "If we count the number of offers each user received in each time block, it becomes clear that every time the offers were sent, each offer was sent to only 1 user. That somewhat alleviates the challenge noted above, but there still remains an issue of previously received offers and how they might have affected one's interest in each new offer."
   ]
  },
  {
   "cell_type": "code",
   "execution_count": 50,
   "metadata": {},
   "outputs": [
    {
     "name": "stdout",
     "output_type": "stream",
     "text": [
      "Maximum number of offers per user per time block: 1\n"
     ]
    }
   ],
   "source": [
    "# number of offers per user per time block\n",
    "num_offers_per_time_block = transcript[\n",
    "    transcript.event=='offer received'\n",
    "    ].groupby(['person', 'time']).size().reset_index(level=0)\n",
    "num_offers_per_time_block.columns = ['person', 'offers']\n",
    "print(\"Maximum number of offers per user per time block: \" + str(num_offers_per_time_block.offers.max()))"
   ]
  },
  {
   "cell_type": "markdown",
   "metadata": {},
   "source": [
    "Moreover, it is possible that when one received a particular offer, other (previous) offers were still active for that person, depending on the duration of the previous offers. To check this, we will create a data frame of all days on which each offer was in effect for the users to whom it was sent. In other words, for each user, there will be a row on any given day since the beginning of the test when any particular offer was active."
   ]
  },
  {
   "cell_type": "code",
   "execution_count": 51,
   "metadata": {},
   "outputs": [],
   "source": [
    "# a list of time points when offers were sent\n",
    "offer_reception_times = transcript[\n",
    "    transcript.event=='offer received'\n",
    "    ].time.unique().tolist()\n",
    "# extract only received offers/drop other transactions\n",
    "received_offers = transcript[transcript.event == 'offer received']\n",
    "\n",
    "def extract_users_by_received_offer(offer, time_point):\n",
    "    \n",
    "    '''\n",
    "    Create a data frame of users for which the offer was active, by day.\n",
    "    \n",
    "    Args:\n",
    "        offer: offer id\n",
    "        time_point: time at which the offer was sent\n",
    "        \n",
    "    Returns: data frame with all days on which offer was active for\n",
    "    users to whom it was sent\n",
    "    '''\n",
    "    \n",
    "    # list of users who received a particular offer\n",
    "    user_list = received_offers[\n",
    "        (received_offers.offer_id == offer) &\n",
    "        (received_offers.time == time_point)\n",
    "        ].person.tolist()\n",
    "    \n",
    "    # extract offer duration from portfolio\n",
    "    offer_duration = portfolio[portfolio.id == offer].duration.item()\n",
    "    \n",
    "    # create a list of days on which the offer was active \n",
    "    # (counting from the beginning of the test)\n",
    "    offer_days = list(range(int(time_point/24) + 1, \n",
    "                            int(time_point/24) + 1 + offer_duration,\n",
    "                            1))\n",
    "    \n",
    "    # data frame with all users that received an offer;\n",
    "    # includes all the days on which the offer was active for these users\n",
    "    user_duration = [pd.DataFrame({\n",
    "        'person': user_list, \n",
    "        'offer_id': [offer]*len(user_list),\n",
    "        'day': [offer_day]*len(user_list), \n",
    "        'offer_active': [1]*len(user_list)\n",
    "        }) for offer_day in offer_days]\n",
    "    user_duration = pd.concat(user_duration)\n",
    "    \n",
    "    return user_duration\n",
    "\n",
    "def create_offer_daily_data(offer):\n",
    "    \n",
    "    '''\n",
    "    Create a data frame of users for which a particular offer was active, \n",
    "    by day, for all time points on which the offer was sent.\n",
    "    \n",
    "    Args:\n",
    "        offer: offer id\n",
    "        \n",
    "    Returns: data frame with all days on which offer was active for\n",
    "    users to whom it was sent, for all the times the offer was sent\n",
    "    '''\n",
    "    \n",
    "    offer_active_by_time = [extract_users_by_received_offer(offer,\n",
    "                                                            time_point) for\n",
    "                            time_point in offer_reception_times]\n",
    "    offer_active_by_time  = pd.concat(offer_active_by_time )\n",
    "    return offer_active_by_time \n",
    "    \n",
    "offers_active_by_day = [create_offer_daily_data(offer) for offer in\n",
    "                        portfolio.id.tolist()]\n",
    "offers_active_by_day = pd.concat(offers_active_by_day)"
   ]
  },
  {
   "cell_type": "markdown",
   "metadata": {},
   "source": [
    "We can now use this data frame to check how many unique offers and how many offers in total were in effect for each user on any given day."
   ]
  },
  {
   "cell_type": "code",
   "execution_count": 52,
   "metadata": {},
   "outputs": [],
   "source": [
    "# number of unique offers active for each user on a given day\n",
    "unique_offers_per_user = offers_active_by_day.groupby([\n",
    "    'person', 'day'\n",
    "    ]).offer_id.nunique()\n",
    "    \n",
    "# total number of offers active for each user on a given day\n",
    "num_offers_per_user = offers_active_by_day.groupby([\n",
    "    'person', 'day'\n",
    "    ]).offer_active.sum()"
   ]
  },
  {
   "cell_type": "markdown",
   "metadata": {},
   "source": [
    "We can now see that there were quite a few cases when a user on a given day had 2 or more active offers. (There were more cases when users had 2 or more offers in total than there were cases when users had 2 or more unique offers because some users may have been sent the same offer two weeks in a row.) Of course, even if multiple offers were active simultaneously, some users have not viewed all or some of these offers.\n",
    "\n",
    "This suggests that the data-generating process was quite complex, and building a realistic causal model of this process would be difficult."
   ]
  },
  {
   "cell_type": "code",
   "execution_count": 53,
   "metadata": {},
   "outputs": [
    {
     "name": "stdout",
     "output_type": "stream",
     "text": [
      "Number of user-days when more than 1 unique offer was active for particular users: 177502\n",
      "Number of user-days when only 1 unique offer was active for particular users: 307406\n",
      "Number of user-days when more than 1 offer in total was active for particular users: 198072\n",
      "Number of user-days when only 1 offer was active for particular users: 298011\n"
     ]
    }
   ],
   "source": [
    "print('Number of user-days when more than 1 unique offer was active for particular users: ' + str(unique_offers_per_user[unique_offers_per_user > 1].sum()))\n",
    "print('Number of user-days when only 1 unique offer was active for particular users: ' + str(unique_offers_per_user[unique_offers_per_user == 1].sum()))\n",
    "print('Number of user-days when more than 1 offer in total was active for particular users: ' + str(num_offers_per_user[num_offers_per_user > 1].sum()))\n",
    "print('Number of user-days when only 1 offer was active for particular users: ' + str(num_offers_per_user[num_offers_per_user == 1].sum()))\n"
   ]
  }
 ],
 "metadata": {
  "interpreter": {
   "hash": "63988c7776bd4b2216d881fd2ad90ced5e2987f9f8c410eebe313e5d7f3b1f68"
  },
  "kernelspec": {
   "display_name": "Python 3.8.5 64-bit ('base': conda)",
   "language": "python",
   "name": "python3"
  },
  "language_info": {
   "codemirror_mode": {
    "name": "ipython",
    "version": 3
   },
   "file_extension": ".py",
   "mimetype": "text/x-python",
   "name": "python",
   "nbconvert_exporter": "python",
   "pygments_lexer": "ipython3",
   "version": "3.8.13"
  },
  "orig_nbformat": 4
 },
 "nbformat": 4,
 "nbformat_minor": 2
}
