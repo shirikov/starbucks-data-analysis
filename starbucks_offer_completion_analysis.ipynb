{
 "cells": [
  {
   "cell_type": "code",
   "execution_count": 38,
   "metadata": {},
   "outputs": [],
   "source": [
    "import pandas as pd\n",
    "from sklearn.pipeline import Pipeline\n",
    "from sklearn.model_selection import GroupShuffleSplit, GridSearchCV\n",
    "from sklearn.preprocessing import MinMaxScaler\n",
    "from sklearn.ensemble import GradientBoostingClassifier\n",
    "from sklearn.linear_model import LogisticRegression\n",
    "from sklearn.metrics import f1_score, precision_score, recall_score\n",
    "from sklearn.metrics import confusion_matrix, ConfusionMatrixDisplay\n",
    "\n",
    "# load data\n",
    "offer_data = pd.read_csv('data/cleaned_offer_data.csv')"
   ]
  },
  {
   "cell_type": "markdown",
   "metadata": {},
   "source": [
    "# Introduction\n",
    "\n",
    "This notebook documents an analysis of the probability of completing various promotional offers based on Starbucks data. The notebook uses a cleaned data set on offers received by each user that was created in a separate notebook (starbucks_data_cleanup.ipynb).\n",
    "\n",
    "The overall idea for the analysis is to use a machine learning algorithm to predict whether users complete (redeem) the offers from existing data on users and offers. We can then use models with sufficient predictive power to compare predicted probabilities of completing the offers for different segments of customers or for offers with different characteristics. In this analysis, we will mainly use logistic regression, as it usually performs well with respect to binary predictions, and it also allows us to examine the contribution of each predictor by looking at regression coefficients. We will also look at who is more likely to view offers using the same model setup.\n",
    "\n",
    "At the end of the analysis, there is a discussion of the takeaways and possible improvements.\n",
    "\n",
    "# Setting Up\n",
    "\n",
    "First, we create several dummy variables for segments of the customer base based on age, income, gender, and when one became a member. As for age, standard age group ranges (0--20, 21--30, etc.) were used. Incomes in the data set were in the range from 30,000 to 120,000, so 20K brackets were used except for the first one (0--40). Membership duration was split into five bins: 0-3 months, 4-6 months, 7-12 months, 1-2 years, more than 2 years. We also add dummies for offer types: BOGO, discount, and informational (informational offers will not be used in this analysis as they cannot be 'completed')."
   ]
  },
  {
   "cell_type": "code",
   "execution_count": 39,
   "metadata": {},
   "outputs": [],
   "source": [
    "# turn continuous variables to categorical\n",
    "offer_data['age_group'] = pd.cut(\n",
    "    offer_data.age, bins=[0, 20, 30, 40, 50, 60, 150],\n",
    "    labels=['18-20', '21-30', '31-40', '41-50', '51-60', '61+'])\n",
    "offer_data['income_group'] = pd.cut(\n",
    "    offer_data.income, bins=[0, 40000, 60000, 80000, 100000, 120000],\n",
    "    labels=['0-40K', '41-60K', '61-80K', '81-100K', '101-120K'])\n",
    "offer_data['member_months_group'] = pd.cut(\n",
    "    offer_data.member_months, bins=[0, 3, 6, 12, 24, 1000],\n",
    "    labels=['0-3 months', '4-6 months', '7-12 months', \n",
    "            '1-2 years', '2+ years'])\n",
    "\n",
    "# recode offer ids\n",
    "offer_data['offer_id_alt'] = (offer_data.offer_type + ' ') + (\n",
    "    offer_data.offer_reward.astype(str) + ' (') + (\n",
    "        (offer_data.offer_duration/24).astype(int).astype(str) + ' days)')\n",
    "        \n",
    "# drop informational offers\n",
    "offer_data = offer_data[offer_data.offer_type != 'informational']\n",
    "\n",
    "# create dummies\n",
    "offer_data = pd.concat([offer_data,\n",
    "                            pd.get_dummies(offer_data['age_group'],\n",
    "                                           prefix='Age'),\n",
    "                            pd.get_dummies(offer_data['income_group'],\n",
    "                                           prefix='Income'),\n",
    "                            pd.get_dummies(offer_data['gender'],\n",
    "                                           prefix='Gender'),\n",
    "                            pd.get_dummies(offer_data['member_months_group'], \n",
    "                                           prefix='Member'),\n",
    "                            pd.get_dummies(offer_data['offer_type'], \n",
    "                                           prefix='Type'),\n",
    "                            pd.get_dummies(offer_data['offer_id_alt'], \n",
    "                                           prefix='Offer')],\n",
    "                            axis=1)\n",
    "                            "
   ]
  },
  {
   "cell_type": "markdown",
   "metadata": {},
   "source": [
    "Next, we set up functions to split the data into train and test sets and to fit the models.\n",
    "\n",
    "In this case, instead of using the standard train_test_split function, it is reasonable to split the data into train and test sets at the level of the user. For this purpose, we use a custom splitting function below."
   ]
  },
  {
   "cell_type": "code",
   "execution_count": 40,
   "metadata": {},
   "outputs": [],
   "source": [
    "def train_test_split_by_user(X, y):\n",
    "    \n",
    "    '''\n",
    "    Create a train and test list of user ids, then split the data accordingly.\n",
    "    \n",
    "    Args:\n",
    "        X: a data frame of predictors\n",
    "        y: the target variable (pandas series)\n",
    "    '''\n",
    "    \n",
    "    # create train and test sets of users\n",
    "    train_ix, test_ix = next(gss.split(X, y, groups=X.user_id))\n",
    "    \n",
    "    # split into train and test\n",
    "    X = X.drop(columns='user_id')\n",
    "    X_train = X.iloc[train_ix]\n",
    "    y_train = y.iloc[train_ix]\n",
    "    X_test = X.iloc[test_ix]\n",
    "    y_test = y.iloc[test_ix]\n",
    "    \n",
    "    return X_train, y_train, X_test, y_test\n",
    "\n",
    "# initialize the command for splitting the data\n",
    "gss = GroupShuffleSplit(n_splits=2, test_size=0.3, random_state=42)"
   ]
  },
  {
   "cell_type": "markdown",
   "metadata": {},
   "source": [
    "The following function fits the models, outputs model evaluation, and, in case of logistic regression models, saves the regression coefficients for the subsequent interpretation."
   ]
  },
  {
   "cell_type": "code",
   "execution_count": 41,
   "metadata": {},
   "outputs": [],
   "source": [
    "def fit_test(model_pipeline, return_coefs=False):\n",
    "    \n",
    "    '''\n",
    "    Fit the model, print out model evaluations on test data,\n",
    "    return coefficients.\n",
    "    \n",
    "    Args:\n",
    "        model_pipeline: a pipeline/a model object\n",
    "    '''\n",
    "    \n",
    "    # Fit the model\n",
    "    model_pipeline.fit(X_train, y_train)\n",
    "    \n",
    "    # Test the model\n",
    "    y_pred = model_pipeline.predict(X_test)\n",
    "    \n",
    "    print('F1 score:')\n",
    "    print(round(f1_score(y_test, y_pred), 3))\n",
    "    print('Precision:')\n",
    "    print(round(precision_score(y_test, y_pred), 3))\n",
    "    print('Recall:')\n",
    "    print(round(recall_score(y_test, y_pred), 3))\n",
    "    \n",
    "    print('Confusion matrix:')\n",
    "    print(confusion_matrix(y_test, y_pred))\n",
    "    ConfusionMatrixDisplay.from_estimator(model_pipeline, X_test, y_test, \n",
    "                                          normalize='all')\n",
    "    \n",
    "    if return_coefs:\n",
    "        coef_list = [recode_coefs(c) for c in X_train.columns.tolist()]\n",
    "        coefs = pd.DataFrame({'Coefficient': model_pipeline.named_steps[\n",
    "                              'logit'].coef_.flatten()},\n",
    "                              index=coef_list)\n",
    "        return coefs\n",
    "    \n",
    "    else:\n",
    "        return None\n",
    "\n",
    "# recode variable names\n",
    "def recode_coefs(coef):\n",
    "    \n",
    "    '''\n",
    "    Relabels variable names for plots.\n",
    "    '''\n",
    "    coef = coef.replace('Offer_', '')\n",
    "    coef = coef.replace('_', ' ')\n",
    "    coef = coef.replace('bogo', 'BOGO')\n",
    "    coef = coef.replace('discount', 'Discount')\n",
    "    coef = coef.replace('any', 'Any')\n",
    "    coef = coef.replace('same', 'Same')\n",
    "    coef = coef.replace('saw', 'Saw')\n",
    "    \n",
    "    return(coef)"
   ]
  },
  {
   "cell_type": "markdown",
   "metadata": {},
   "source": [
    "For this analysis, we set up two model pipelines, one using logistic regression, and another using gradient boosting. In both cases, data are normalized using a MinMaxScaler from sklearn, which rescales each variable to take values from 0 to 1. This is more appropriate in this case compared to standard centering and scaling because many of the variables are dummies."
   ]
  },
  {
   "cell_type": "code",
   "execution_count": 42,
   "metadata": {},
   "outputs": [],
   "source": [
    "# instantiate model pipelines\n",
    "pipeline_logit = Pipeline([\n",
    "    ('scaler', MinMaxScaler()),\n",
    "    ('logit', LogisticRegression())\n",
    "])\n",
    "\n",
    "pipeline_boost = Pipeline([\n",
    "    ('scaler', MinMaxScaler()),\n",
    "    ('boost', GradientBoostingClassifier(random_state=42))\n",
    "])"
   ]
  },
  {
   "cell_type": "markdown",
   "metadata": {},
   "source": [
    "In the analysis below, we will use the following set of predictors:\n",
    "- Dummies for promo campaigns (offers). While the data contain several characteristics for each offer, such as its type, reward, duration, and required spending, there are just 8 offers in this analysis (after dropping 2 informational ones), and including all these specific characteristics will be essentially the same as including just the offer ids, as the set of these features allows to identify each offer precisely (see the list of offers below). It would thus be easier to interpret the results if we include just the dummies for each offer. The dummy 'bogo 5 (5 days)' is omitted and serves as the reference category.\n",
    "- The count of previously completed offers by the same user (one variable counts offers with the same id, the other variable counts all previously completed offers). This allows us to capture whether one tends to spend more or to seek offers more actively.\n",
    "- Age groups. The group 'Age 18-20' serves as a reference category.\n",
    "- Income groups. The group '0-40K' serves as a reference category.\n",
    "- Gender. 'Male' is the reference category.\n",
    "- How long one has been a member. '0-3 months' is a reference category."
   ]
  },
  {
   "cell_type": "code",
   "execution_count": 43,
   "metadata": {},
   "outputs": [
    {
     "name": "stdout",
     "output_type": "stream",
     "text": [
      "Offers in the analysis (the number after offer type is reward value in dollars):\n",
      "['bogo 10 (5 days)', 'bogo 10 (7 days)', 'bogo 5 (5 days)', 'bogo 5 (7 days)', 'discount 2 (10 days)', 'discount 2 (7 days)', 'discount 3 (7 days)', 'discount 5 (10 days)']\n"
     ]
    }
   ],
   "source": [
    "print('Offers in the analysis (the number after offer type is reward value in dollars):')\n",
    "print(offer_data.sort_values('offer_id_alt').offer_id_alt.unique().tolist())\n",
    "\n",
    "x_vars = ['Offer_bogo 10 (5 days)', 'Offer_bogo 10 (7 days)', \n",
    "          'Offer_bogo 5 (7 days)',\n",
    "          'Offer_discount 2 (7 days)',  'Offer_discount 2 (10 days)',\n",
    "          'Offer_discount 3 (7 days)', 'Offer_discount 5 (10 days)', \n",
    "          'same_offer_completed_before', 'any_offer_completed_before',\n",
    "          'Age_21-30', 'Age_31-40', 'Age_41-50', 'Age_51-60', 'Age_61+',\n",
    "          'Income_41-60K', 'Income_61-80K', 'Income_81-100K', \n",
    "          'Income_101-120K', \n",
    "          'Gender_Female', 'Gender_Other', \n",
    "          'Member_4-6 months', 'Member_7-12 months',\n",
    "          'Member_1-2 years', 'Member_2+ years']"
   ]
  },
  {
   "cell_type": "markdown",
   "metadata": {},
   "source": [
    "Next, we create a matrix of predictors X and the outcome variable, and then we split the data into the training and test sets."
   ]
  },
  {
   "cell_type": "code",
   "execution_count": 44,
   "metadata": {},
   "outputs": [],
   "source": [
    "# X and y\n",
    "offer_data_X = offer_data[['user_id'] + x_vars]\n",
    "offer_data_y = offer_data['completed']\n",
    "\n",
    "# train and test\n",
    "X_train, y_train, X_test, y_test = train_test_split_by_user(offer_data_X,\n",
    "                                                            offer_data_y)"
   ]
  },
  {
   "cell_type": "markdown",
   "metadata": {},
   "source": [
    "# Analysis\n",
    "\n",
    "## Finding the Best-Performing Model\n",
    "\n",
    "### Logistic Regression\n",
    "\n",
    "The logistic regression implementation in sklearn by default includes a regularization penalty, but the strength of regularization could be tuned via the parameter called C. First, we use grid search with cross-validation to find the optimal value of C.\n",
    "\n"
   ]
  },
  {
   "cell_type": "code",
   "execution_count": 45,
   "metadata": {},
   "outputs": [
    {
     "name": "stdout",
     "output_type": "stream",
     "text": [
      "F1 score:\n",
      "0.799\n",
      "Precision:\n",
      "0.774\n",
      "Recall:\n",
      "0.826\n",
      "Confusion matrix:\n",
      "[[3557 2401]\n",
      " [1733 8221]]\n"
     ]
    },
    {
     "data": {
      "image/png": "[encoded data removed]",
      "text/plain": [
       "<Figure size 432x288 with 2 Axes>"
      ]
     },
     "metadata": {
      "needs_background": "light"
     },
     "output_type": "display_data"
    }
   ],
   "source": [
    "# grid search for optimal model parameters\n",
    "parameters_logit = {\n",
    "        'logit__C': [0.001, 0.01, 0.1, 0.5, 1, 10, 50, 100, 1000]\n",
    "    }\n",
    "logit_cv = GridSearchCV(pipeline_logit, param_grid=parameters_logit)\n",
    "fit_test(logit_cv)"
   ]
  },
  {
   "cell_type": "markdown",
   "metadata": {},
   "source": [
    "The best model has an F1 score of 0.8. F1 score is a single metric that takes into account both model precision and recall, where precision shows what percent of the offers that the model predicted to be completed were actually completed, and recall shows what percent of all completed offers the model was able to predict as completed. It is important to consider both precision and recall because we want our models to minimize both false positives and false negatives, and F1 score is a convenient combination of these metrics. However, in addition, this code also prints out precision and recall. \n",
    "\n",
    "Looking at precision and recall is also important in our specific case because there is some class imbalance in the data: offers were completed in about 63 percent of cases (see the confusion matrix for the total number of true positives). This might bias the model in favor of positive results. We can see that there is some such bias indeed, both from the confusion matrix where there are more false positives than false negatives, and from the fact that model precision is somewhat lower than recall. But this bias is not too severe, given the relatively small difference between two metrics.\n",
    "\n",
    "As for the optimal value of C, it is 10, as shown below, so this is what we will use going forward."
   ]
  },
  {
   "cell_type": "code",
   "execution_count": 46,
   "metadata": {},
   "outputs": [
    {
     "name": "stdout",
     "output_type": "stream",
     "text": [
      "Optimal parameter: {'logit__C': 10}\n"
     ]
    }
   ],
   "source": [
    "print('Optimal parameter: ' + str(logit_cv.best_params_))"
   ]
  },
  {
   "cell_type": "markdown",
   "metadata": {},
   "source": [
    "### Gradient Boosting\n",
    "\n",
    "As an alternative, we'll consider another classifier, gradient boosting, also implemented in sklearn. This is an ensemble tree-based model. In this case, we'll tune three parameters: learning rate (the contribution of each tree to final predictions), the number of estimators (boosting stages), and max depth (the number of nodes in each tree)."
   ]
  },
  {
   "cell_type": "code",
   "execution_count": 47,
   "metadata": {},
   "outputs": [
    {
     "name": "stdout",
     "output_type": "stream",
     "text": [
      "F1 score:\n",
      "0.803\n",
      "Precision:\n",
      "0.783\n",
      "Recall:\n",
      "0.824\n",
      "Confusion matrix:\n",
      "[[3682 2276]\n",
      " [1750 8204]]\n"
     ]
    },
    {
     "data": {
      "image/png": "[encoded data removed]",
      "text/plain": [
       "<Figure size 432x288 with 2 Axes>"
      ]
     },
     "metadata": {
      "needs_background": "light"
     },
     "output_type": "display_data"
    }
   ],
   "source": [
    "# grid search for optimal parameters\n",
    "parameters_boost = {\n",
    "        'boost__max_depth': [1, 2, 3, 4, 5],\n",
    "        'boost__n_estimators': [10, 50, 100, 200],\n",
    "        'boost__learning_rate': [0.0001, 0.001, 0.01, 0.1, 0.2, 0.3]\n",
    "    }\n",
    "boost_cv = GridSearchCV(pipeline_boost, param_grid=parameters_boost)\n",
    "fit_test(boost_cv)\n"
   ]
  },
  {
   "cell_type": "markdown",
   "metadata": {},
   "source": [
    "Here are the optimal parameters for this model. As the results above show, the F1 score of the gradient boosting classifier is almost the same as in the logistic regression case above (slightly lower recall and slightly higher precision). Given that the logistic regression model allows for easier interpretation of results based on regression coefficients, we will use it for the remaining analysis."
   ]
  },
  {
   "cell_type": "code",
   "execution_count": 48,
   "metadata": {},
   "outputs": [
    {
     "name": "stdout",
     "output_type": "stream",
     "text": [
      "{'boost__learning_rate': 0.2, 'boost__max_depth': 3, 'boost__n_estimators': 100}\n"
     ]
    }
   ],
   "source": [
    "print(boost_cv.best_params_)"
   ]
  },
  {
   "cell_type": "markdown",
   "metadata": {},
   "source": [
    "## Predicting Offer Completion\n",
    "\n",
    "Now, let's examine the regression coefficients using the tuned logistic model. It is not straightforward to derive the exact numeric differences in the probability of completing the offer between customer segments or offers because the predictor variables were rescaled. Rather, the goal of this discussion is to provide some intuitive understanding about when this probability is higher. A positive coefficient means that the probability of completing the offer is higher for a particular category of users or offers compared to the reference category. The larger the coefficient, the more likely is the offer to be completed. And vice versa, negative coefficients mean lower probability of completing offers."
   ]
  },
  {
   "cell_type": "code",
   "execution_count": null,
   "metadata": {},
   "outputs": [],
   "source": [
    "# predicting completion\n",
    "completion_coefs = fit_test(logit_cv.best_estimator_, return_coefs=True)\n",
    "\n",
    "completion_coefs.plot.barh(figsize=[15,5], \n",
    "                           ylabel='Logistic regression coefficient', \n",
    "                           title='What predicts offer completion?')"
   ]
  },
  {
   "cell_type": "markdown",
   "metadata": {},
   "source": [
    "It's worth keeping in mind that when we have several dummies, e.g., for the duration of membership, the coefficients on these dummies reflect how the corresponding categories related to the omitted category. In case of membership, the reference category is those who have been members for 0--3 months. Compared to them, all other groups of members were *more* likely to complete offers. But members with a longer track record were in general more likely to redeem offers, even compared to those who were members for 4--6 months or 7--12 months. \n",
    "\n",
    "Similarly, compared to males (omitted category), female customers and those who specified their gender as 'other' were more likely to complete offers, as were customers who earned more compared to those with lower income. As for age, customers over 40 were more likely to complete offers than customers between 18 and 30 years old.\n",
    "\n",
    "Further, customers who have previously completed either the same offer or any other offer were also more likely to redeem offers. As noted before, either these customers generally make orders more frequently, or these are individuals who tend to look out for promo offers and make use of them.\n",
    "\n",
    "As for specific offers, there was no clear pattern. While two discount offers turned out to be more effective than the rest, two other discount offers were less popular---about the same as a couple of BOGO offers. It does not seem like there is a pattern with respect to reward size or offer duration. The only possible conclusion is that discount offers may be somewhat more attractive than BOGO offers, which makes sense.\n",
    "\n",
    "## Accounting for the Knowledge of the Offer\n",
    "\n",
    "A flaw of the model described above is that it considered all customers at once without distinguishing between those who did and did not see the offers in question. But some people would complete offers even without knowing about them just because they spend some amount regularly. What we want to know is whether an offer makes it more likely that people would spend more. So one possibility is to consider customers who did not see the offer to be spending as they would usually spend, whereas customers who saw the offer would be spending under the influence of this offer. (Ideally, of course, we would use a different study setup, on which see below.)\n",
    "\n",
    "There are different ways in which we can tackle this issue. First, we can simply add a dummy that indicates whether one saw the offer or not to the regression and check the coefficient. To do this, we add a new variable *saw_offer* that takes the value of 1 if the customer viewed the offer and then completed it or viewed the offer and did not complete it; the variable takes the value of 0 if the customer viewed the offer after completing it or did not view it at all."
   ]
  },
  {
   "cell_type": "code",
   "execution_count": null,
   "metadata": {},
   "outputs": [],
   "source": [
    "offer_data['saw_offer'] = (\n",
    "    (offer_data.viewed == 1) &\n",
    "    (offer_data.viewed_before != 0)).astype(int)\n",
    "\n",
    "offer_data_X = offer_data[['user_id'] + x_vars + ['saw_offer']]\n",
    "offer_data_y = offer_data['completed']\n",
    "\n",
    "# train and test\n",
    "X_train, y_train, X_test, y_test = train_test_split_by_user(offer_data_X,\n",
    "                                                            offer_data_y)\n",
    "\n",
    "# fit \n",
    "completion_coefs_saw = fit_test(logit_cv.best_estimator_, return_coefs=True)\n",
    "\n",
    "completion_coefs_saw.plot.barh(figsize=[15,5], \n",
    "                               ylabel='Logistic regression coefficient', \n",
    "                               title='What predicts offer completion?')"
   ]
  },
  {
   "cell_type": "markdown",
   "metadata": {},
   "source": [
    "The coefficient on whether one saw the offer is somewhat positive, but its magnitude is small compared to the differences between various other customer segments. Thus, we might think that those who actually saw promo offers were not *much* more likely to complete them.\n",
    "\n",
    "Another way to look at this is to complete the average probability of completing the offer for those who saw them and those who did not see them. Again, not a dramatic difference, although it is probably still meaningful given how large Starbucks is; a few percentage points change in the probability of completing an offer may mean tens of millions of dollars a year in additional customer spending."
   ]
  },
  {
   "cell_type": "code",
   "execution_count": null,
   "metadata": {},
   "outputs": [],
   "source": [
    "print('Percent of completed offers among customers who viewed offers: ' + str(round(offer_data.groupby('saw_offer').completed.mean()[1]*100, 1)) + '%')\n",
    "print('Percent of completed offers among customers who did not view offers: ' + str(round(offer_data.groupby('saw_offer').completed.mean()[0]*100, 1)) + '%')"
   ]
  },
  {
   "cell_type": "markdown",
   "metadata": {},
   "source": [
    "One other possibility, however, is that learning about an offer did not have much impact on average, but it had a larger impact on certain customer segments or for certain offers. In other words, it would be worth knowing whether the probability of completing the offer depends on viewing it more for some customer segments and less for others (same for specific offers). \n",
    "\n",
    "There are different ways to set up this analysis. To make it more straightforward, I apply the same model as above separately to (a) those who saw offers before they had a chance to complete them, and (b) those who did not see offers at all or saw them only after completing them. The code below runs the model twice for these two subsamples and plots the coefficients from two models."
   ]
  },
  {
   "cell_type": "code",
   "execution_count": null,
   "metadata": {},
   "outputs": [],
   "source": [
    "# X and y\n",
    "offer_data_s_X = offer_data[\n",
    "    offer_data.saw_offer == 1][['user_id'] + x_vars]\n",
    "offer_data_ds_X = offer_data[\n",
    "    offer_data.saw_offer == 0][['user_id'] + x_vars]\n",
    "offer_data_s_y = offer_data[\n",
    "    offer_data.saw_offer == 1]['completed']\n",
    "offer_data_ds_y = offer_data[\n",
    "    offer_data.saw_offer == 0]['completed']\n",
    "\n",
    "# train and test 1\n",
    "X_train, y_train, X_test, y_test = train_test_split_by_user(\n",
    "    offer_data_s_X, offer_data_s_y)\n",
    "\n",
    "# fit 1\n",
    "completion_coefs_s = fit_test(logit_cv.best_estimator_, return_coefs=True)\n",
    "\n",
    "# train and test 2\n",
    "X_train, y_train, X_test, y_test = train_test_split_by_user(\n",
    "    offer_data_ds_X, offer_data_ds_y)\n",
    "\n",
    "# fit 2\n",
    "completion_coefs_ds = fit_test(logit_cv.best_estimator_, return_coefs=True)\n",
    "\n",
    "# combine coefficients into one data frame\n",
    "completion_coefs_sds = pd.concat([completion_coefs_s, \n",
    "                                 completion_coefs_ds],\n",
    "                                 axis=1)\n",
    "completion_coefs_sds.columns = ['Saw', 'Did not see']\n",
    "\n",
    "# plot\n",
    "completion_coefs_sds.plot.barh(figsize=[15,7], \n",
    "                               ylabel='Logistic regression coefficient', \n",
    "                               title='What predicts offer completion?')"
   ]
  },
  {
   "cell_type": "markdown",
   "metadata": {},
   "source": [
    "From the plot, we can see that in many cases, there was not much difference in terms of the probability of completing offers in specific customer segments depending on whether customers viewed the offer or not. For example, the coefficients for females or customers in different age groups were about the same in the group that viewed offers and in the group that did not view them. Here are a few cases that stood out and would be worth highlighting:\n",
    "- Those who have been members for more than 1 year were substantially more likely to complete offers when they saw promos than when they did not.\n",
    "- In all income groups above 40K, but especially so in groups between 60K and 100K, customers who saw offers were *less* likely to complete these offers than when they did not see the offers. Not quite clear why this pattern might emerge.\n",
    "- With respect to specific offers, all discounts were clearly more likely to be redeemed when they were seen, whereas with BOGOs, this was not always the case. This may suggest, again, that discounts were generally more attractive to customers than BOGO offers.\n",
    "\n",
    "Except for these cases, however, the differences in completion probabilities between those who viewed offers and those who did not were not dramatic. This may suggest two possibilities: (1) promo offers in general were not extremely motivating, possibly because many customers were spending enough money anyway; (2) viewing the offer does not correctly reflect actual awareness of the offer, as customers could have learned about these offers in other ways. We will return to this issue at the end. \n",
    "\n",
    "## Predicting The Probability of Viewing Offers\n",
    "\n",
    "If we want to maximize the effectiveness of promo offers, not only we need to know who is more likely to use them when aware of them, but we also need to know who is more likely to see these offers. For this reason, it is worth conducting an analogous analysis of the probability of *viewing* the offers. The next code chunk does this and plots the coefficients."
   ]
  },
  {
   "cell_type": "code",
   "execution_count": null,
   "metadata": {},
   "outputs": [],
   "source": [
    "# X and y\n",
    "data_viewing_X = offer_data[['user_id'] + x_vars]\n",
    "data_viewing_y = offer_data['viewed']\n",
    "\n",
    "# train and test\n",
    "X_train, y_train, X_test, y_test = train_test_split_by_user(data_viewing_X,\n",
    "                                                            data_viewing_y)\n",
    "\n",
    "# fit \n",
    "viewing_coefs = fit_test(logit_cv.best_estimator_, return_coefs=True)\n",
    "\n",
    "# plot\n",
    "viewing_coefs.plot.barh(figsize=[15,5], \n",
    "                        ylabel='Logistic regression coefficient', \n",
    "                        title='What predicts the viewing of offers?')"
   ]
  },
  {
   "cell_type": "markdown",
   "metadata": {},
   "source": [
    "\n",
    "Several things to highlight on this plot:\n",
    "- Not much difference in the probability of viewing depending on membership duration.\n",
    "- Not much difference between males and females.\n",
    "- Customers with incomes between 40K and 100K were more likely to view offers (especially those in the 60K-100K range) than both the wealthiest (over 100K) and the poorest (less than 40K) customers. The wealthiest may not care for promo offers much, and the poorest may not always be able to afford completing them.\n",
    "- Customers over 30 were more likely to view the offers than younger customers.\n",
    "- Those who completed offers before were more likely to view new offers.\n",
    "- Some offers were much less likely to be viewed than others, but there is no clear pattern in terms of, say, discounts vs BOGO offers or the amount of the reward.\n",
    "\n",
    "This might suggest that some additional efforts might be needed to make the offers more visible to certain customer segments (younger or poorer customers), but it is important first to investigate why these customers pay less attention to promotional activities. It could be, for example, that they believe the offers are generally not worth their time, and then changing the structure of these offers might help.\n",
    "\n",
    "# Discussion\n",
    "\n",
    "\n",
    "\n",
    "Viewing probably a flawed measure of awareness."
   ]
  }
 ],
 "metadata": {
  "interpreter": {
   "hash": "63988c7776bd4b2216d881fd2ad90ced5e2987f9f8c410eebe313e5d7f3b1f68"
  },
  "kernelspec": {
   "display_name": "Python 3.8.5 64-bit ('base': conda)",
   "language": "python",
   "name": "python3"
  },
  "language_info": {
   "codemirror_mode": {
    "name": "ipython",
    "version": 3
   },
   "file_extension": ".py",
   "mimetype": "text/x-python",
   "name": "python",
   "nbconvert_exporter": "python",
   "pygments_lexer": "ipython3",
   "version": "3.8.13"
  },
  "orig_nbformat": 4
 },
 "nbformat": 4,
 "nbformat_minor": 2
}
