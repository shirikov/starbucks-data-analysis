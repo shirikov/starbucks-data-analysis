{
 "cells": [
  {
   "cell_type": "code",
   "execution_count": 29,
   "metadata": {},
   "outputs": [],
   "source": [
    "import pandas as pd\n",
    "from sklearn.pipeline import Pipeline\n",
    "from sklearn.model_selection import GroupShuffleSplit, GridSearchCV\n",
    "from sklearn.preprocessing import MinMaxScaler\n",
    "from sklearn.ensemble import GradientBoostingClassifier\n",
    "from sklearn.linear_model import LogisticRegression\n",
    "from sklearn.metrics import f1_score, precision_score, recall_score\n",
    "from sklearn.metrics import confusion_matrix, ConfusionMatrixDisplay\n",
    "\n",
    "# load data\n",
    "offer_data = pd.read_csv('data/cleaned_offer_data.csv')"
   ]
  },
  {
   "cell_type": "markdown",
   "metadata": {},
   "source": [
    "# Introduction\n",
    "\n",
    "This notebook documents an analysis of the probability of completing various promotional offers based on Starbucks data. The notebook uses a cleaned data set on offers received by each user that was created in a separate notebook (starbucks_data_cleanup.ipynb).\n",
    "\n",
    "The overall idea for the analysis is to use a machine learning algorithm to predict whether users complete (redeem) the offers from existing data on users and offers. We can then use models with sufficient predictive power to compare predicted probabilities of completing the offers for different segments of customers or for offers with different characteristics. In this analysis, we will mainly use logistic regression, as it usually performs well with respect to binary predictions, and it also allows us to examine the contribution of each predictor by looking at regression coefficients. We will also look at who is more likely to view offers using the same model setup.\n",
    "\n",
    "At the end of the analysis, there is a discussion of the takeaways and possible improvements.\n",
    "\n",
    "# Setting Up\n",
    "\n",
    "First, we create several dummy variables for segments of the customer base based on age, income, gender, and when one became a member. As for age, standard age group ranges (0--20, 21--30, etc.) were used. Incomes in the data set were in the range from 30,000 to 120,000, so 20K brackets were used except for the first one (0--40). Membership duration was split into five bins: 0-3 months, 4-6 months, 7-12 months, 1-2 years, more than 2 years. We also add dummies for offer types: BOGO, discount, and informational (informational offers will not be used in this analysis as they cannot be 'completed')."
   ]
  },
  {
   "cell_type": "code",
   "execution_count": 30,
   "metadata": {},
   "outputs": [],
   "source": [
    "# turn continuous variables to categorical\n",
    "offer_data['age_group'] = pd.cut(\n",
    "    offer_data.age, bins=[0, 20, 30, 40, 50, 60, 150],\n",
    "    labels=['18-20', '21-30', '31-40', '41-50', '51-60', '61+'])\n",
    "offer_data['income_group'] = pd.cut(\n",
    "    offer_data.income, bins=[0, 40000, 60000, 80000, 100000, 120000],\n",
    "    labels=['0-40K', '41-60K', '61-80K', '81-100K', '101-120K'])\n",
    "offer_data['member_months_group'] = pd.cut(\n",
    "    offer_data.member_months, bins=[0, 3, 6, 12, 24, 1000],\n",
    "    labels=['0-3 months', '4-6 months', '7-12 months', \n",
    "            '1-2 years', '2+ years'])\n",
    "\n",
    "# recode offer ids\n",
    "offer_data['offer_id_alt'] = (offer_data.offer_type + ' ') + (\n",
    "    offer_data.offer_reward.astype(str) + ' (') + (\n",
    "        (offer_data.offer_duration/24).astype(int).astype(str) + ' days)')\n",
    "        \n",
    "# drop informational offers\n",
    "offer_data = offer_data[offer_data.offer_type != 'informational']\n",
    "\n",
    "# create dummies\n",
    "offer_data = pd.concat([offer_data,\n",
    "                            pd.get_dummies(offer_data['age_group'],\n",
    "                                           prefix='Age'),\n",
    "                            pd.get_dummies(offer_data['income_group'],\n",
    "                                           prefix='Income'),\n",
    "                            pd.get_dummies(offer_data['gender'],\n",
    "                                           prefix='Gender'),\n",
    "                            pd.get_dummies(offer_data['member_months_group'], \n",
    "                                           prefix='Member'),\n",
    "                            pd.get_dummies(offer_data['offer_type'], \n",
    "                                           prefix='Type'),\n",
    "                            pd.get_dummies(offer_data['offer_id_alt'], \n",
    "                                           prefix='Offer')],\n",
    "                            axis=1)\n",
    "                            "
   ]
  },
  {
   "cell_type": "markdown",
   "metadata": {},
   "source": [
    "Next, we set up functions to split the data into train and test sets and to fit the models.\n",
    "\n",
    "In this case, instead of using the standard train_test_split function, it is reasonable to split the data into train and test sets at the level of the user. For this purpose, we use a custom splitting function below."
   ]
  },
  {
   "cell_type": "code",
   "execution_count": 31,
   "metadata": {},
   "outputs": [],
   "source": [
    "def train_test_split_by_user(X, y):\n",
    "    \n",
    "    '''\n",
    "    Create a train and test list of user ids, then split the data accordingly.\n",
    "    \n",
    "    Args:\n",
    "        X: a data frame of predictors\n",
    "        y: the target variable (pandas series)\n",
    "    '''\n",
    "    \n",
    "    # create train and test sets of users\n",
    "    train_ix, test_ix = next(gss.split(X, y, groups=X.user_id))\n",
    "    \n",
    "    # split into train and test\n",
    "    X = X.drop(columns='user_id')\n",
    "    X_train = X.iloc[train_ix]\n",
    "    y_train = y.iloc[train_ix]\n",
    "    X_test = X.iloc[test_ix]\n",
    "    y_test = y.iloc[test_ix]\n",
    "    \n",
    "    return X_train, y_train, X_test, y_test\n",
    "\n",
    "# initialize the command for splitting the data\n",
    "gss = GroupShuffleSplit(n_splits=2, test_size=0.3, random_state=42)"
   ]
  },
  {
   "cell_type": "markdown",
   "metadata": {},
   "source": [
    "The following function fits the models, outputs model evaluation, and, in case of logistic regression models, saves the regression coefficients for the subsequent interpretation."
   ]
  },
  {
   "cell_type": "code",
   "execution_count": 32,
   "metadata": {},
   "outputs": [],
   "source": [
    "def fit_test(model_pipeline, return_coefs=False):\n",
    "    \n",
    "    '''\n",
    "    Fit the model, print out model evaluations on test data,\n",
    "    return coefficients.\n",
    "    \n",
    "    Args:\n",
    "        model_pipeline: a pipeline/a model object\n",
    "    '''\n",
    "    \n",
    "    # Fit the model\n",
    "    model_pipeline.fit(X_train, y_train)\n",
    "    \n",
    "    # Test the model\n",
    "    y_pred = model_pipeline.predict(X_test)\n",
    "    \n",
    "    print('F1 score:')\n",
    "    print(round(f1_score(y_test, y_pred), 3))\n",
    "    print('Precision:')\n",
    "    print(round(precision_score(y_test, y_pred), 3))\n",
    "    print('Recall:')\n",
    "    print(round(recall_score(y_test, y_pred), 3))\n",
    "    \n",
    "    print('Confusion matrix:')\n",
    "    print(confusion_matrix(y_test, y_pred))\n",
    "    ConfusionMatrixDisplay.from_estimator(model_pipeline, X_test, y_test, \n",
    "                                          normalize='all')\n",
    "    \n",
    "    if return_coefs:\n",
    "        coefs = pd.DataFrame({'var': X_train.columns.tolist(),\n",
    "                              'coef': model_pipeline.named_steps[\n",
    "                              'logit'].coef_.flatten()})\n",
    "        return coefs\n",
    "    \n",
    "    else:\n",
    "        return None"
   ]
  },
  {
   "cell_type": "markdown",
   "metadata": {},
   "source": [
    "For this analysis, we set up two model pipelines, one using logistic regression, and another using gradient boosting. In both cases, data are normalized using a MinMaxScaler from sklearn, which rescales each variable to take values from 0 to 1. This is more appropriate in this case compared to standard centering and scaling because many of the variables are dummies."
   ]
  },
  {
   "cell_type": "code",
   "execution_count": 33,
   "metadata": {},
   "outputs": [],
   "source": [
    "# instantiate model pipelines\n",
    "pipeline_logit = Pipeline([\n",
    "    ('scaler', MinMaxScaler()),\n",
    "    ('logit', LogisticRegression())\n",
    "])\n",
    "\n",
    "pipeline_boost = Pipeline([\n",
    "    ('scaler', MinMaxScaler()),\n",
    "    ('boost', GradientBoostingClassifier(max_depth=1, random_state=42))\n",
    "])"
   ]
  },
  {
   "cell_type": "markdown",
   "metadata": {},
   "source": [
    "In the analysis below, we will use the following set of predictors:\n",
    "- Dummies for promo campaigns (offers). While the data contain several characteristics for each offer, such as its type, reward, duration, and required spending, there are just 8 offers in this analysis (after dropping 2 informational ones), and including all these specific characteristics will be essentially the same as including just the offer ids, as the set of these features allows to identify each offer precisely (see the list of offers below). It would thus be easier to interpret the results if we include just the dummies for each offer. The dummy 'bogo 5 (5 days)' is omitted and serves as the reference category.\n",
    "- The count of previously completed offers by the same user (one variable counts offers with the same id, the other variable counts all previously completed offers). This allows us to capture whether one tends to spend more or to seek offers more actively.\n",
    "- Age groups. The group 'Age 18-20' serves as a reference category.\n",
    "- Income groups. The group '0-40K' serves as a reference category.\n",
    "- How long one has been a member. '0-3 months' is a reference category."
   ]
  },
  {
   "cell_type": "code",
   "execution_count": 34,
   "metadata": {},
   "outputs": [
    {
     "name": "stdout",
     "output_type": "stream",
     "text": [
      "Offers in the analysis (the number after offer type is reward value in dollars):\n",
      "['bogo 10 (5 days)', 'bogo 10 (7 days)', 'bogo 5 (5 days)', 'bogo 5 (7 days)', 'discount 2 (10 days)', 'discount 2 (7 days)', 'discount 3 (7 days)', 'discount 5 (10 days)']\n"
     ]
    }
   ],
   "source": [
    "print('Offers in the analysis (the number after offer type is reward value in dollars):')\n",
    "print(offer_data.sort_values('offer_id_alt').offer_id_alt.unique().tolist())\n",
    "\n",
    "x_vars = ['Offer_bogo 10 (5 days)', 'Offer_bogo 10 (7 days)', \n",
    "          'Offer_bogo 5 (7 days)',\n",
    "          'Offer_discount 2 (7 days)',  'Offer_discount 2 (10 days)',\n",
    "          'Offer_discount 3 (7 days)', 'Offer_discount 5 (10 days)', \n",
    "          'same_offer_completed_before', 'any_offer_completed_before',\n",
    "          'Age_21-30', 'Age_31-40', 'Age_41-50', 'Age_51-60', 'Age_61+',\n",
    "          'Income_41-60K', 'Income_61-80K', 'Income_81-100K', \n",
    "          'Income_101-120K', \n",
    "          'Gender_Female', 'Gender_Other', \n",
    "          'Member_4-6 months', 'Member_7-12 months',\n",
    "          'Member_1-2 years', 'Member_2+ years']"
   ]
  },
  {
   "cell_type": "markdown",
   "metadata": {},
   "source": [
    "Next, we create a matrix of predictors X and the outcome variable, and then we split the data into the training and test sets."
   ]
  },
  {
   "cell_type": "code",
   "execution_count": 35,
   "metadata": {},
   "outputs": [],
   "source": [
    "# X and y\n",
    "offer_data_X = offer_data[['user_id'] + x_vars]\n",
    "offer_data_y = offer_data['completed']\n",
    "\n",
    "# train and test\n",
    "X_train, y_train, X_test, y_test = train_test_split_by_user(offer_data_X,\n",
    "                                                            offer_data_y)"
   ]
  },
  {
   "cell_type": "markdown",
   "metadata": {},
   "source": [
    "# Analysis\n",
    "\n",
    "## Finding the Best-Performing Model\n",
    "\n",
    "### Logistic Regression\n",
    "\n",
    "The logistic regression implementation in sklearn by default includes a regularization penalty, but the strength of regularization could be tuned via the parameter called C. First, we use grid search with cross-validation to find the optimal value of C.\n",
    "\n"
   ]
  },
  {
   "cell_type": "code",
   "execution_count": 36,
   "metadata": {},
   "outputs": [
    {
     "name": "stdout",
     "output_type": "stream",
     "text": [
      "F1 score:\n",
      "0.799\n",
      "Precision:\n",
      "0.774\n",
      "Recall:\n",
      "0.826\n",
      "Confusion matrix:\n",
      "[[3557 2401]\n",
      " [1733 8221]]\n"
     ]
    },
    {
     "data": {
      "image/png": "[encoded data removed]",
      "text/plain": [
       "<Figure size 432x288 with 2 Axes>"
      ]
     },
     "metadata": {
      "needs_background": "light"
     },
     "output_type": "display_data"
    }
   ],
   "source": [
    "# grid search for optimal model parameters\n",
    "parameters_logit = {\n",
    "        'logit__C': [0.001, 0.01, 0.1, 0.5, 1, 10, 50, 100, 1000]\n",
    "    }\n",
    "logit_cv = GridSearchCV(pipeline_logit, param_grid=parameters_logit)\n",
    "fit_test(logit_cv)"
   ]
  },
  {
   "cell_type": "markdown",
   "metadata": {},
   "source": [
    "The best model has an F1 score of 0.8, which is pretty good. EXPLAIN F1 SCORE AND TALK ABT PRECISION/RECALL, PRECISION SOMEWHAT LOWER THAN RECALL.\n",
    "\n",
    "The optimal value of C is 10, as shown below, so this is what we will use going forward."
   ]
  },
  {
   "cell_type": "code",
   "execution_count": 37,
   "metadata": {},
   "outputs": [
    {
     "name": "stdout",
     "output_type": "stream",
     "text": [
      "Optimal parameter: {'logit__C': 10}\n"
     ]
    }
   ],
   "source": [
    "print('Optimal parameter: ' + str(logit_cv.best_params_))"
   ]
  }
 ],
 "metadata": {
  "interpreter": {
   "hash": "63988c7776bd4b2216d881fd2ad90ced5e2987f9f8c410eebe313e5d7f3b1f68"
  },
  "kernelspec": {
   "display_name": "Python 3.8.5 64-bit ('base': conda)",
   "language": "python",
   "name": "python3"
  },
  "language_info": {
   "codemirror_mode": {
    "name": "ipython",
    "version": 3
   },
   "file_extension": ".py",
   "mimetype": "text/x-python",
   "name": "python",
   "nbconvert_exporter": "python",
   "pygments_lexer": "ipython3",
   "version": "3.8.13"
  },
  "orig_nbformat": 4
 },
 "nbformat": 4,
 "nbformat_minor": 2
}
